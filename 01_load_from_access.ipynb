{
 "cells": [
  {
   "cell_type": "markdown",
   "id": "46d32349",
   "metadata": {},
   "source": [
    "# Data Load from Access Database"
   ]
  },
  {
   "cell_type": "code",
   "execution_count": 1,
   "id": "f5d85247",
   "metadata": {},
   "outputs": [
    {
     "name": "stdout",
     "output_type": "stream",
     "text": [
      "✅ Connected to database\n",
      "Tickets rows: 200\n",
      "Priority rows: 200\n",
      "Departments rows: 5\n",
      "📌 Sample ticket data:\n",
      "    ticket_id                                         subject  \\\n",
      "0       1001                    Agent every development say.   \n",
      "1       1002                  Behavior benefit suggest page.   \n",
      "2       1003                Relate animal direction eye bag.   \n",
      "3       1004                 Left establish understand read.   \n",
      "4       1005  Central cause seat much section investment on.   \n",
      "\n",
      "                                         description date_received  \\\n",
      "0  Opportunity all behavior discussion. Ago curre...    2025-07-22   \n",
      "1          Movie win her need stop peace technology.    2025-07-22   \n",
      "2  Herself law street class. Decide environment v...    2025-07-22   \n",
      "3  Successful simply director allow firm environm...    2025-07-22   \n",
      "4  Young catch management sense technology. Physi...    2025-07-22   \n",
      "\n",
      "   department_id  \n",
      "0              1  \n",
      "1              3  \n",
      "2              2  \n",
      "3              5  \n",
      "4              4  \n",
      "✅ Merged with priority\n",
      "✅ Merged with department\n"
     ]
    },
    {
     "name": "stderr",
     "output_type": "stream",
     "text": [
      "d:\\Users\\balans\\Desktop\\PBI\\Customer Support Ticket Prioritization\\src\\access_connector.py:15: UserWarning: pandas only supports SQLAlchemy connectable (engine/connection) or database string URI or sqlite3 DBAPI2 connection. Other DBAPI2 objects are not tested. Please consider using SQLAlchemy.\n",
      "  tickets_df = pd.read_sql(\"SELECT * FROM Tickets\", conn)\n",
      "d:\\Users\\balans\\Desktop\\PBI\\Customer Support Ticket Prioritization\\src\\access_connector.py:16: UserWarning: pandas only supports SQLAlchemy connectable (engine/connection) or database string URI or sqlite3 DBAPI2 connection. Other DBAPI2 objects are not tested. Please consider using SQLAlchemy.\n",
      "  priority_df = pd.read_sql(\"SELECT * FROM Ticket_Priority\", conn)\n",
      "d:\\Users\\balans\\Desktop\\PBI\\Customer Support Ticket Prioritization\\src\\access_connector.py:17: UserWarning: pandas only supports SQLAlchemy connectable (engine/connection) or database string URI or sqlite3 DBAPI2 connection. Other DBAPI2 objects are not tested. Please consider using SQLAlchemy.\n",
      "  department_df = pd.read_sql(\"SELECT * FROM Department\", conn)\n"
     ]
    },
    {
     "name": "stdout",
     "output_type": "stream",
     "text": [
      "     ticket_id                                         subject  \\\n",
      "0         1001                    Agent every development say.   \n",
      "1         1002                  Behavior benefit suggest page.   \n",
      "2         1003                Relate animal direction eye bag.   \n",
      "3         1004                 Left establish understand read.   \n",
      "4         1005  Central cause seat much section investment on.   \n",
      "..         ...                                             ...   \n",
      "195       1196           Up story life police guess sea three.   \n",
      "196       1197                   Short office purpose reflect.   \n",
      "197       1198  Degree she unit effect which language however.   \n",
      "198       1199                 Talk against state ready every.   \n",
      "199       1200             Bad argue side girl stage indicate.   \n",
      "\n",
      "                                           description date_received  \\\n",
      "0    Opportunity all behavior discussion. Ago curre...    2025-07-22   \n",
      "1            Movie win her need stop peace technology.    2025-07-22   \n",
      "2    Herself law street class. Decide environment v...    2025-07-22   \n",
      "3    Successful simply director allow firm environm...    2025-07-22   \n",
      "4    Young catch management sense technology. Physi...    2025-07-22   \n",
      "..                                                 ...           ...   \n",
      "195  Statement entire American audience. Back democ...    2025-07-22   \n",
      "196  Coach Congress husband front. Move outside val...    2025-07-22   \n",
      "197                      Other military year few feel.    2025-07-22   \n",
      "198  News unit choice also green catch happen. Econ...    2025-07-22   \n",
      "199  Section support up plant place. Fight American...    2025-07-22   \n",
      "\n",
      "     department_id priority_label                name  \n",
      "0                1            Low          IT Support  \n",
      "1                3            Low           Technical  \n",
      "2                2           High             Billing  \n",
      "3                5            Low  Account Management  \n",
      "4                4            Low             General  \n",
      "..             ...            ...                 ...  \n",
      "195              1            Low          IT Support  \n",
      "196              3            Low           Technical  \n",
      "197              3            Low           Technical  \n",
      "198              5         Medium  Account Management  \n",
      "199              3         Medium           Technical  \n",
      "\n",
      "[200 rows x 7 columns]\n"
     ]
    }
   ],
   "source": [
    "import sys\n",
    "import os\n",
    "sys.path.append(os.path.abspath(\"src\"))\n",
    "\n",
    "from access_connector import load_access_data\n",
    "\n",
    "# Path to your Access DB\n",
    "db_path = r\"D:\\\\Users\\balans\\Desktop\\\\PBI\\\\Customer Support Ticket Prioritization\\data\\\\customer_tickets.accdb\"\n",
    "\n",
    "df = load_access_data(db_path)\n",
    "\n",
    "print(df)"
   ]
  }
 ],
 "metadata": {
  "kernelspec": {
   "display_name": "Python 3",
   "language": "python",
   "name": "python3"
  },
  "language_info": {
   "codemirror_mode": {
    "name": "ipython",
    "version": 3
   },
   "file_extension": ".py",
   "mimetype": "text/x-python",
   "name": "python",
   "nbconvert_exporter": "python",
   "pygments_lexer": "ipython3",
   "version": "3.12.4"
  }
 },
 "nbformat": 4,
 "nbformat_minor": 5
}
