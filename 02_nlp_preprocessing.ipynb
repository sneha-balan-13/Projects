{
 "cells": [
  {
   "cell_type": "code",
   "execution_count": 4,
   "id": "231e61c0",
   "metadata": {},
   "outputs": [],
   "source": [
    "import pandas as pd\n",
    "from sklearn.model_selection import train_test_split\n",
    "from sklearn.feature_extraction.text import TfidfVectorizer\n",
    "from src.utils import clean_text"
   ]
  },
  {
   "cell_type": "code",
   "execution_count": 6,
   "id": "58da3e3c",
   "metadata": {},
   "outputs": [],
   "source": [
    "# Load merged dataset\n",
    "df = pd.read_csv('D:/Users/balans/Desktop/PBI/Customer Support Ticket Prioritization/data/merged_tickets.csv')"
   ]
  },
  {
   "cell_type": "code",
   "execution_count": 8,
   "id": "f103f885",
   "metadata": {},
   "outputs": [],
   "source": [
    "# Clean text\n",
    "df['clean_text'] = df['subject'].fillna('') + ' ' + df['description'].fillna('')\n",
    "df['clean_text'] = df['clean_text'].apply(clean_text)"
   ]
  },
  {
   "cell_type": "code",
   "execution_count": 10,
   "id": "7ee1522f",
   "metadata": {},
   "outputs": [],
   "source": [
    "# Vectorize\n",
    "vectorizer = TfidfVectorizer(max_features=5000, ngram_range=(1,2))\n",
    "X = vectorizer.fit_transform(df['clean_text'])\n",
    "y = df['priority_label']"
   ]
  },
  {
   "cell_type": "code",
   "execution_count": 12,
   "id": "b67112f2",
   "metadata": {},
   "outputs": [],
   "source": [
    "# Split\n",
    "X_train, X_test, y_train, y_test = train_test_split(X, y, stratify=y, test_size=0.2, random_state=42)"
   ]
  },
  {
   "cell_type": "code",
   "execution_count": 13,
   "id": "59937165",
   "metadata": {},
   "outputs": [
    {
     "data": {
      "text/plain": [
       "['D:/Users/balans/Desktop/PBI/Customer Support Ticket Prioritization/models/vectorizer.pkl']"
      ]
     },
     "execution_count": 13,
     "metadata": {},
     "output_type": "execute_result"
    }
   ],
   "source": [
    "# Save vectorizer if needed\n",
    "import joblib\n",
    "joblib.dump(vectorizer, 'D:/Users/balans/Desktop/PBI/Customer Support Ticket Prioritization/models/vectorizer.pkl')"
   ]
  }
 ],
 "metadata": {
  "kernelspec": {
   "display_name": "Python 3",
   "language": "python",
   "name": "python3"
  },
  "language_info": {
   "codemirror_mode": {
    "name": "ipython",
    "version": 3
   },
   "file_extension": ".py",
   "mimetype": "text/x-python",
   "name": "python",
   "nbconvert_exporter": "python",
   "pygments_lexer": "ipython3",
   "version": "3.12.4"
  }
 },
 "nbformat": 4,
 "nbformat_minor": 5
}
