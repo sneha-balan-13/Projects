{
 "cells": [
  {
   "cell_type": "code",
   "execution_count": 1,
   "id": "41a7287b",
   "metadata": {},
   "outputs": [
    {
     "name": "stdout",
     "output_type": "stream",
     "text": [
      "<class 'sklearn.pipeline.Pipeline'>\n"
     ]
    }
   ],
   "source": [
    "import joblib\n",
    "model = joblib.load('D:/Users/balans/Desktop/PBI/Customer Support Ticket Prioritization/models/final_model.pkl')\n",
    "\n",
    "print(type(model))\n"
   ]
  },
  {
   "cell_type": "code",
   "execution_count": 3,
   "id": "7ed8fc5c",
   "metadata": {},
   "outputs": [],
   "source": [
    "# Define text cleaning function\n",
    "import re\n",
    "import string\n",
    "\n",
    "def clean_text(text):\n",
    "    text = text.lower()  # Convert to lowercase\n",
    "    text = re.sub(r\"http\\S+|www\\S+|https\\S+\", '', text, flags=re.MULTILINE)  # Remove URLs\n",
    "    text = re.sub(r'\\@w+|\\#', '', text)  # Remove mentions and hashtags\n",
    "    text = re.sub(r'[^A-Za-z0-9]+', '', text)  # Remove punctuation\n",
    "    text = text.translate(str.maketrans('', '', string.punctuation))  # Remove punctuation\n",
    "    return text.strip()"
   ]
  },
  {
   "cell_type": "code",
   "execution_count": 4,
   "id": "348891b7",
   "metadata": {},
   "outputs": [],
   "source": [
    "# Input: Simulate new ticket\n",
    "\n",
    "# Sample new ticket (changable)\n",
    "new_ticket = {\n",
    "    'Subject': 'System down!',\n",
    "    'Description': 'The production server is not responding since morning. Immediate help needed.',\n",
    "}\n",
    "\n",
    "# Combine & Clean\n",
    "text = clean_text(new_ticket['Subject'] + ' ' + new_ticket['Description'])"
   ]
  },
  {
   "cell_type": "code",
   "execution_count": 6,
   "id": "99fec85c",
   "metadata": {},
   "outputs": [
    {
     "name": "stdout",
     "output_type": "stream",
     "text": [
      "Predicted Priority: 2\n"
     ]
    }
   ],
   "source": [
    "# Predict\n",
    "# Convert text to DataFrame\n",
    "\n",
    "import pandas as pd\n",
    "\n",
    "input_df = pd.DataFrame([text], columns=['text'])\n",
    "\n",
    "# Predict priority\n",
    "predicted_priority = model.predict(input_df)[0]\n",
    "\n",
    "print(f\"Predicted Priority: {predicted_priority}\")"
   ]
  }
 ],
 "metadata": {
  "kernelspec": {
   "display_name": "Python 3",
   "language": "python",
   "name": "python3"
  },
  "language_info": {
   "codemirror_mode": {
    "name": "ipython",
    "version": 3
   },
   "file_extension": ".py",
   "mimetype": "text/x-python",
   "name": "python",
   "nbconvert_exporter": "python",
   "pygments_lexer": "ipython3",
   "version": "3.12.4"
  }
 },
 "nbformat": 4,
 "nbformat_minor": 5
}
